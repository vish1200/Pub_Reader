{
 "cells": [
  {
   "cell_type": "code",
   "execution_count": 40,
   "metadata": {},
   "outputs": [],
   "source": [
    "import pandas as pd\n",
    "import gensim\n",
    "from nltk.corpus import stopwords\n",
    "import numpy as np"
   ]
  },
  {
   "cell_type": "code",
   "execution_count": 99,
   "metadata": {},
   "outputs": [
    {
     "name": "stdout",
     "output_type": "stream",
     "text": [
      "1991\n",
      "3982\n"
     ]
    }
   ],
   "source": [
    "file_loc = '/Users/vishalpatel/Desktop/PythonTesting/Pub_Reader/BaseCaseDataset.csv' #Insert file location\n",
    "Data = pd.read_csv(file_loc, encoding='latin-1')\n",
    "# print(Data.head(10))\n",
    "Labels = Data['Study type'].tolist()\n",
    "Titles = Data['Title'].tolist()\n",
    "Abstract = Data['Abstract'].tolist()\n",
    "Title_abstract_ls = Titles + Abstract\n",
    "stop_words = stopwords.words('english')\n",
    "input_ls = []\n",
    "for i in Title_abstract_ls:\n",
    "    text = [word for word in gensim.utils.simple_preprocess(i) if word not in stop_words]\n",
    "    input_ls.append(text)\n",
    "\n",
    "print(len(Labels))\n",
    "print(len(input_ls))"
   ]
  },
  {
   "cell_type": "code",
   "execution_count": 42,
   "metadata": {},
   "outputs": [],
   "source": [
    "class MeanEmbeddingVectorizer(object):\n",
    "    def __init__(self, word2vec):\n",
    "        self.word2vec = word2vec\n",
    "        self.dim = len(word2vec.itervalues().next())\n",
    "        \n",
    "    def fit(self, x, y):\n",
    "        return self\n",
    "    \n",
    "    def transform(self, x):\n",
    "        return np.array([np.mean([self.word2vec[w] for w in words if w in self.word2vec] \n",
    "                        or [np.zeros(self.dim)], axis=0) for words in x])"
   ]
  },
  {
   "cell_type": "code",
   "execution_count": 35,
   "metadata": {},
   "outputs": [],
   "source": [
    "model = gensim.models.Word2Vec(sentences = input_ls, size = 100, window = 5, min_count = 1)"
   ]
  },
  {
   "cell_type": "code",
   "execution_count": 39,
   "metadata": {},
   "outputs": [
    {
     "name": "stdout",
     "output_type": "stream",
     "text": [
      "17911\n",
      "[('claims', 0.9977182149887085), ('longitudinal', 0.9960327744483948), ('centres', 0.9956400394439697), ('involving', 0.9955805540084839), ('describes', 0.9952573776245117), ('dutch', 0.9951852560043335), ('centers', 0.9951401948928833), ('prisma', 0.9951326251029968), ('community', 0.994956374168396), ('databases', 0.9946842193603516)]\n"
     ]
    }
   ],
   "source": [
    "print(len(list(model.wv.vocab)))\n",
    "print(model.wv.most_similar('uk'))"
   ]
  },
  {
   "cell_type": "code",
   "execution_count": 89,
   "metadata": {},
   "outputs": [
    {
     "name": "stdout",
     "output_type": "stream",
     "text": [
      "[-0.13157433  0.0873893  -0.13359754  0.2834771  -0.44537792 -0.62538886\n",
      " -0.9426668  -0.07555179  0.3165561   0.2353951  -0.7339969  -0.13105892\n",
      "  0.57362235  0.2437848   0.24168514 -0.00562138 -0.6236486   0.28499508\n",
      " -0.19620562 -0.01537267 -0.47164562  0.3822239   0.08967382  0.5670841\n",
      "  0.1211812  -0.01605281  0.43987    -0.77656996  0.15355958  0.6987557\n",
      " -0.2596173  -0.49760425  0.07189288 -1.1564916  -0.75718534 -0.62069607\n",
      "  0.08236609 -0.2773282  -0.29931986 -0.42874834  0.10403578  0.45933202\n",
      " -0.05992901  0.7364672  -1.207146   -0.6842679   0.16932777 -0.3228345\n",
      "  0.13484414  0.13044633 -0.3492428   0.9953589  -0.91118145 -0.29030174\n",
      "  0.0979808  -0.3562477  -0.10532269  0.58068883 -0.29167163 -1.0188819\n",
      " -0.5689363   0.06071116 -0.04705476 -0.42901814  0.5212896  -0.04336083\n",
      " -0.34914738  0.7996813  -0.4403349  -0.5128184  -0.18236722 -0.6810454\n",
      "  0.09541158 -0.91397184 -0.50852144  0.32322386 -0.07283736 -0.07548498\n",
      " -0.23352896 -0.22193192  0.25617424 -0.22535892  0.10856649 -0.62230676\n",
      "  0.3467631   0.15533145  0.17135777 -0.06505045 -0.22027168 -0.58271426\n",
      " -0.02573798 -0.6230779   0.03284289  0.40895063  0.01622221 -0.60653234\n",
      " -0.06209024  0.05976255  0.33859915  0.04774415]\n"
     ]
    },
    {
     "name": "stderr",
     "output_type": "stream",
     "text": [
      "/Users/vishalpatel/anaconda3/lib/python3.6/site-packages/ipykernel_launcher.py:1: DeprecationWarning: Call to deprecated `syn0` (Attribute will be removed in 4.0.0, use self.vectors instead).\n",
      "  \"\"\"Entry point for launching an IPython kernel.\n"
     ]
    }
   ],
   "source": [
    "w2v = dict(zip(model.wv.index2word, model.wv.syn0))\n",
    "w2i = dict(zip(model.wv.index2word, model.wv.vocab))\n",
    "a = []\n",
    "print(np.mean([w2v.get(i) for i in input_ls[0]], axis=0))\n",
    "\n",
    "# print(([w2v[i] for i in input_ls[0]]))\n",
    "\n",
    "# test = MeanEmbeddingVectorizer(input_ls[0])\n",
    "# test = model.wv.index2word\n",
    "# test2 = model.wv.syn0\n",
    "# print((test2[0]))\n",
    "# print((Abstract[0]))\n",
    "# print(Data['Abstract'].head(10))\n",
    "# print((input_ls[0]))\n",
    "# print(w2i.keys())"
   ]
  }
 ],
 "metadata": {
  "kernelspec": {
   "display_name": "Python 3",
   "language": "python",
   "name": "python3"
  },
  "language_info": {
   "codemirror_mode": {
    "name": "ipython",
    "version": 3
   },
   "file_extension": ".py",
   "mimetype": "text/x-python",
   "name": "python",
   "nbconvert_exporter": "python",
   "pygments_lexer": "ipython3",
   "version": "3.6.8"
  }
 },
 "nbformat": 4,
 "nbformat_minor": 2
}
