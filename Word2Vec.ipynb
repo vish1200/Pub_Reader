{
 "cells": [
  {
   "cell_type": "code",
   "execution_count": 22,
   "metadata": {},
   "outputs": [],
   "source": [
    "import pandas as pd\n",
    "import gensim\n",
    "from nltk.corpus import stopwords"
   ]
  },
  {
   "cell_type": "code",
   "execution_count": 33,
   "metadata": {},
   "outputs": [
    {
     "name": "stdout",
     "output_type": "stream",
     "text": [
      "['self', 'management', 'education', 'adults', 'poorly', 'controlled', 'epilepsy', 'smile', 'uk', 'randomised', 'controlled', 'trial']\n",
      "Self-Management education for adults with poorly controlled epILEpsy [SMILE (UK)]: a randomised controlled trial.\n"
     ]
    }
   ],
   "source": [
    "file_loc = '/Users/vishalpatel/Desktop/PythonTesting/Pub_Reader/BaseCaseDataset.csv' #Insert file location\n",
    "Data = pd.read_csv(file_loc, encoding='latin-1')\n",
    "# print(Data.head(10))\n",
    "Titles = Data['Title'].tolist()\n",
    "Abstract = Data['Abstract'].tolist()\n",
    "Title_abstract_ls = Titles + Abstract\n",
    "stop_words = stopwords.words('english')\n",
    "input_ls = []\n",
    "for i in Title_abstract_ls:\n",
    "    text = [word for word in gensim.utils.simple_preprocess(i) if word not in stop_words]\n",
    "    input_ls.append(text)"
   ]
  },
  {
   "cell_type": "code",
   "execution_count": 35,
   "metadata": {},
   "outputs": [],
   "source": [
    "model = gensim.models.Word2Vec(sentences = input_ls, size = 100, window = 5, min_count = 1)"
   ]
  },
  {
   "cell_type": "code",
   "execution_count": 38,
   "metadata": {},
   "outputs": [
    {
     "name": "stdout",
     "output_type": "stream",
     "text": [
      "17911\n",
      "[('schizophrenia', 0.9818545579910278), ('panic', 0.9372953176498413), ('initiative', 0.9290805459022522), ('people', 0.9210808873176575), ('adults', 0.9207656383514404), ('olp', 0.9146161079406738), ('population', 0.9144618511199951), ('dsm', 0.9137783646583557), ('entities', 0.9110875129699707), ('individuals', 0.9089527130126953)]\n"
     ]
    }
   ],
   "source": [
    "print(len(list(model.wv.vocab)))\n",
    "print(model.wv.most_similar('epi'))"
   ]
  }
 ],
 "metadata": {
  "kernelspec": {
   "display_name": "Python 3",
   "language": "python",
   "name": "python3"
  },
  "language_info": {
   "codemirror_mode": {
    "name": "ipython",
    "version": 3
   },
   "file_extension": ".py",
   "mimetype": "text/x-python",
   "name": "python",
   "nbconvert_exporter": "python",
   "pygments_lexer": "ipython3",
   "version": "3.6.8"
  }
 },
 "nbformat": 4,
 "nbformat_minor": 2
}
